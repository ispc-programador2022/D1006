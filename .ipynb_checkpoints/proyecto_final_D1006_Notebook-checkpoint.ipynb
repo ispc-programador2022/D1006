{
 "cells": [
  {
   "cell_type": "code",
   "execution_count": 15,
   "metadata": {},
   "outputs": [
    {
     "name": "stdout",
     "output_type": "stream",
     "text": [
      "Note: you may need to restart the kernel to use updated packages.Requirement already satisfied: beautifulsoup4 in c:\\users\\angel\\appdata\\local\\programs\\python\\python310\\lib\\site-packages (4.11.1)\n",
      "Requirement already satisfied: soupsieve>1.2 in c:\\users\\angel\\appdata\\local\\programs\\python\\python310\\lib\\site-packages (from beautifulsoup4) (2.3.2.post1)\n",
      "\n"
     ]
    },
    {
     "name": "stderr",
     "output_type": "stream",
     "text": [
      "\n",
      "[notice] A new release of pip available: 22.3 -> 22.3.1\n",
      "[notice] To update, run: python.exe -m pip install --upgrade pip\n"
     ]
    }
   ],
   "source": [
    "pip install beautifulsoup4\n"
   ]
  },
  {
   "cell_type": "code",
   "execution_count": 3,
   "metadata": {},
   "outputs": [],
   "source": [
    "from bs4 import BeautifulSoup"
   ]
  },
  {
   "cell_type": "code",
   "execution_count": 16,
   "metadata": {},
   "outputs": [],
   "source": [
    "import glob, os.path"
   ]
  },
  {
   "cell_type": "code",
   "execution_count": 101,
   "metadata": {},
   "outputs": [
    {
     "name": "stdout",
     "output_type": "stream",
     "text": [
      "[{'product': 'Smart Tv Noblex Dk43x5100 Led Full Hd 43', 'brand': 'Noblex', 'seller': 'Torca', 'financial_mode': ' Hasta 18 cuotas fijas de', 'financing_amount': 6878.74, 'price': 74490.0, 'sale_price': 74490.0}, {'product': 'Led Tcl 50  L50p725 Smart 4K Google Tv Rv Hdmi/usb/sint Dig/', 'brand': 'TCL', 'seller': 'Torca', 'financial_mode': ' Hasta 18 cuotas fijas de', 'financing_amount': 10600.22, 'price': 114790.0, 'sale_price': 114790.0}, {'product': 'Smart Tv 4K 65 Pulgadas Rca And65p7uhd Bluetooth Hdr Android', 'brand': 'RCA', 'seller': 'Agen', 'financial_mode': ' Hasta 18 cuotas fijas de', 'financing_amount': 18468.8, 'price': 199999.0, 'sale_price': 199999.0}, {'product': 'Smart Tv 65 Pulgadas 4K Ultra Hd 65Au7000 - Samsung', 'brand': 'Samsung', 'seller': 'Megatone', 'financial_mode': ' Hasta 18 cuotas fijas de', 'financing_amount': 24748.22, 'price': 267999.0, 'sale_price': 267999.0}, {'product': 'Smart Tv 50\" Uhd4k Samsung 50Au7000', 'brand': 'Samsung', 'seller': 'Hendel', 'financial_mode': ' Hasta 18 cuotas fijas de', 'financing_amount': 12050.86, 'price': 172499.0, 'sale_price': 130499.0}, {'product': 'Smart Tv Samsung Un43t5300agczb Led Full Hd 43 Televisor Hdr - Un43t5300agczb', 'brand': 'Samsung', 'seller': 'Ceven', 'financial_mode': ' Hasta 18 cuotas fijas de', 'financing_amount': 9234.35, 'price': 99999.0, 'sale_price': 99999.0}, {'product': 'Smart Tv 43\" Noblex 91Dk43x7100pi Android Tv ', 'brand': 'Noblex', 'seller': 'Newsan', 'financial_mode': ' Hasta 18 cuotas fijas de', 'financing_amount': 9234.35, 'price': 99999.0, 'sale_price': 99999.0}, {'product': 'Televisor Smart 40 Tcl Android Tv-rv L40s66e', 'brand': 'TCL', 'seller': '*Outletech*', 'financial_mode': ' Hasta 18 cuotas fijas de', 'financing_amount': 8587.94, 'price': 123968.0, 'sale_price': 92999.0}, {'product': \"Lg Uhd Ai Thinq 75'' Up77 4K Smart Tv, Α5 Ai Processor, Magic Remote\", 'brand': 'LG', 'seller': 'Newsan', 'financial_mode': ' Hasta 18 cuotas fijas de', 'financing_amount': 37861.13, 'price': 409999.0, 'sale_price': 409999.0}, {'product': 'Smart Tv Eq Samsung 75\" Uhd Serie Au8000 Zf.', 'brand': 'Samsung', 'seller': 'Diggit', 'financial_mode': ' Hasta 18 cuotas fijas de', 'financing_amount': 36937.69, 'price': 399999.0, 'sale_price': 399999.0}, {'product': 'Smart Tv 50\" 4K Lg 50Up7750 Negro', 'brand': 'LG', 'seller': 'Hendel', 'financial_mode': ' Hasta 18 cuotas fijas de', 'financing_amount': 15975.5, 'price': 172999.0, 'sale_price': 172999.0}, {'product': 'Smart Tv Philips 4K 50\" 50Pud7406/77', 'brand': 'Philips', 'seller': 'Hendel', 'financial_mode': ' Hasta 18 cuotas fijas de', 'financing_amount': 14267.12, 'price': 154499.0, 'sale_price': 154499.0}, {'product': 'Smart Tv Philco 32 Led Hd Pld32hs22 Wifi Netflix', 'brand': 'Philco', 'seller': 'Ceven', 'financial_mode': ' Hasta 18 cuotas fijas de', 'financing_amount': 4570.13, 'price': 49490.0, 'sale_price': 49490.0}, {'product': \"Smart Tv Noblex Dk50x6500 Led 4K 50''\", 'brand': 'Noblex', 'seller': 'Belkiare', 'financial_mode': ' Hasta 18 cuotas fijas de', 'financing_amount': 13511.1, 'price': 162568.0, 'sale_price': 146312.0}, {'product': 'Smart Tv Hd 32 Pulgadas Philips 32Phd6927 Android Hdr Bt Voz', 'brand': 'Philips', 'seller': 'Ebox', 'financial_mode': ' Hasta 18 cuotas fijas de', 'financing_amount': 6159.28, 'price': 66699.0, 'sale_price': 66699.0}, {'product': 'Smart Tv Philips 43Pfd6917/77 Led Full Hd 43  110V/240v', 'brand': 'Philips', 'seller': 'Baires IT', 'financial_mode': ' Hasta 18 cuotas fijas de', 'financing_amount': 15962.57, 'price': 172859.0, 'sale_price': 172859.0}, {'product': 'Smart Tv Philips 55″ 4K Uhd  55Pud7906', 'brand': 'Philips', 'seller': 'Diggit', 'financial_mode': ' Hasta 18 cuotas fijas de', 'financing_amount': 15673.53, 'price': 169729.0, 'sale_price': 169729.0}, {'product': 'Televisor Smart 32 Tcl Android Tv L32s65a', 'brand': 'TCL', 'seller': '*Outletech*', 'financial_mode': ' Hasta 18 cuotas fijas de', 'financing_amount': 6030.0, 'price': 87019.0, 'sale_price': 65299.0}, {'product': 'Smart Tv 43\" Noblex 91Dk43x7100pi Android Tv ', 'brand': 'Noblex', 'seller': 'Newsan', 'financial_mode': ' Hasta 18 cuotas fijas de', 'financing_amount': 9234.35, 'price': 99999.0, 'sale_price': 99999.0}, {'product': 'Smart Tv 43\" Uhd 4K Samsung 43Au7000', 'brand': 'Samsung', 'seller': 'Hendel', 'financial_mode': ' Hasta 18 cuotas fijas de', 'financing_amount': 9945.4, 'price': 142999.0, 'sale_price': 107699.0}, {'product': 'Smart Tv 43\" Lg Full Hd 43Lm6350psb', 'brand': 'LG', 'seller': 'OscarBarbieri', 'financial_mode': ' Hasta 18 cuotas fijas de', 'financing_amount': 9474.45, 'price': 102599.0, 'sale_price': 102599.0}, {'product': 'Smart Tv Philips 50 Pulgadas 4K Uhd 50Pud7406/77', 'brand': 'Philips', 'seller': 'Radio Sapienza', 'financial_mode': ' Hasta 18 cuotas fijas de', 'financing_amount': 11367.88, 'price': 138826.0, 'sale_price': 123103.0}, {'product': 'Smart Tv Lg 43\" Fhd 43Lm6350psb', 'brand': 'LG', 'seller': 'Dacar Hogar', 'financial_mode': ' Hasta 18 cuotas fijas de', 'financing_amount': 9733.01, 'price': 126455.0, 'sale_price': 105399.0}, {'product': 'Roku Stick 4K 3820Mx Netflix Convertidor A Smart Tv Streaming', 'brand': 'Roku', 'seller': 'Powercase', 'financial_mode': ' Hasta 18 cuotas fijas de', 'financing_amount': 2308.52, 'price': 29999.0, 'sale_price': 24999.0}, {'product': 'Smart Tv Philips 6800 Series 43Pfd6825/77 Led Full Hd 43  ', 'brand': 'Philips', 'seller': 'Torca', 'financial_mode': ' Hasta 18 cuotas fijas de', 'financing_amount': 7109.6, 'price': 76990.0, 'sale_price': 76990.0}, {'product': 'Smart Tv Lg 50  Led Real 4K Uhd Hdr 10 Pro Thinq 50Up7750', 'brand': 'LG', 'seller': 'Ceven', 'financial_mode': ' Hasta 18 cuotas fijas de', 'financing_amount': 16621.91, 'price': 179999.0, 'sale_price': 179999.0}, {'product': 'Smart Tv Xiaomi Mi Tv P1 43\" Lm', 'brand': 'Xiaomi', 'seller': 'Etercor', 'financial_mode': ' Hasta 18 cuotas fijas de', 'financing_amount': 13851.67, 'price': 187499.0, 'sale_price': 150000.0}, {'product': \"Lg Uhd Ai Thinq 4K 50''\", 'brand': 'LG', 'seller': 'Newsan', 'financial_mode': ' Hasta 18 cuotas fijas de', 'financing_amount': 13943.92, 'price': 150999.0, 'sale_price': 150999.0}, {'product': 'Smart Tv Rca And40y Led Full Hd 40  100V/240v', 'brand': 'RCA', 'seller': 'Torca', 'financial_mode': ' Hasta 18 cuotas fijas de', 'financing_amount': 6463.19, 'price': 69990.0, 'sale_price': 69990.0}, {'product': 'Smart Tv Philips 32Phd6917 Hd 32 Pulgadas Android Bt Hdr Voz', 'brand': 'Philips', 'seller': 'Ebox', 'financial_mode': ' Hasta 18 cuotas fijas de', 'financing_amount': 6211.92, 'price': 67269.0, 'sale_price': 67269.0}, {'product': 'Smart Tv 50 Pulgadas 4K Ultra Hd Cdh-le504ksmart21 F - Hitachi', 'brand': 'Hitachi', 'seller': 'Megatone', 'financial_mode': ' Hasta 18 cuotas fijas de', 'financing_amount': 11081.24, 'price': 139999.0, 'sale_price': 119999.0}, {'product': 'Smart Tv 43\" Fhd Frameless Quint', 'brand': 'Quint', 'seller': 'Diggit', 'financial_mode': ' Hasta 18 cuotas fijas de', 'financing_amount': 7313.59, 'price': 79199.0, 'sale_price': 79199.0}, {'product': 'Barra Sonido Jbl Sb120 Dolby Digital Bluetooth 110W Original', 'brand': 'JBL', 'seller': 'Punto Digital', 'financial_mode': ' Hasta 18 cuotas fijas de', 'financing_amount': 4617.13, 'price': 49999.0, 'sale_price': 49999.0}, {'product': 'Smart Tv Lg 32\" 32Lm620 Hd Lg Led', 'brand': 'LG', 'seller': 'Hendel', 'financial_mode': ' Hasta 18 cuotas fijas de', 'financing_amount': 6150.05, 'price': 85499.0, 'sale_price': 66599.0}, {'product': 'Smart Tv Philips Led 55  4K Serie 7000 55Pud7406/77 Android', 'brand': 'Philips', 'seller': 'Ceven', 'financial_mode': ' Hasta 18 cuotas fijas de', 'financing_amount': 18468.8, 'price': 199999.0, 'sale_price': 199999.0}, {'product': 'Smart Tv Samsung Qled 55  4K Serie 6 Qn55q60aagczb', 'brand': 'Samsung', 'seller': 'Ceven', 'financial_mode': ' Hasta 18 cuotas fijas de', 'financing_amount': 23640.09, 'price': 255999.0, 'sale_price': 255999.0}, {'product': 'Televisor Noblex 43  Smart Tv Dr43x7100 Android Full Hd ', 'brand': 'Noblex', 'seller': 'Ceven', 'financial_mode': ' Hasta 18 cuotas fijas de', 'financing_amount': 9419.04, 'price': 101999.0, 'sale_price': 101999.0}, {'product': 'Smart Tv Quint Qt1-42frame 42 Pulgadas Fhd Fullhd Netflix', 'brand': 'Quint', 'seller': 'Ceven', 'financial_mode': ' Hasta 18 cuotas fijas de', 'financing_amount': 7849.19, 'price': 84999.0, 'sale_price': 84999.0}, {'product': 'Smart Tv Philips 32” Led Hd 32Phd6825/77', 'brand': 'Philips', 'seller': 'Radio Sapienza', 'financial_mode': ' Hasta 18 cuotas fijas de', 'financing_amount': 4817.61, 'price': 57177.0, 'sale_price': 52170.0}, {'product': 'Televisor Tv Led 24 Pulgadas Philips 24Phd5565/77 Hdmi Rca', 'brand': 'Philips', 'seller': 'Ebox', 'financial_mode': ' Hasta 18 cuotas fijas de', 'financing_amount': 3786.03, 'price': 40999.0, 'sale_price': 40999.0}, {'product': 'Led Noblex 50  Dm50x7550 Smart 4K Sint Digital/hdmi/usb/blue', 'brand': 'Noblex', 'seller': 'Torca', 'financial_mode': ' Hasta 18 cuotas fijas de', 'financing_amount': 9879.93, 'price': 106990.0, 'sale_price': 106990.0}, {'product': \"Lg Oled A1 Ai Thinq 4K 55''\", 'brand': 'LG', 'seller': 'Newsan', 'financial_mode': ' Hasta 18 cuotas fijas de', 'financing_amount': 32505.15, 'price': 351999.0, 'sale_price': 351999.0}, {'product': 'Smart Tv Samsung 75 Pulgadas Neo Qled 4K Qn75qn85bagczb', 'brand': 'Samsung', 'seller': 'Ceven', 'financial_mode': ' Hasta 18 cuotas fijas de', 'financing_amount': 66118.53, 'price': 715999.0, 'sale_price': 715999.0}, {'product': 'Smart Tv 43\" Noblex 91Dk43x7100pi Android Tv ', 'brand': 'Noblex', 'seller': 'Newsan', 'financial_mode': ' Hasta 18 cuotas fijas de', 'financing_amount': 9234.35, 'price': 99999.0, 'sale_price': 99999.0}, {'product': 'Smart Tv Hitachi 50” 4K Android / Cdh-le504ksmart24 Googletv', 'brand': 'Hitachi', 'seller': 'Radio Sapienza', 'financial_mode': ' Hasta 18 cuotas fijas de', 'financing_amount': 11349.13, 'price': 128238.0, 'sale_price': 122900.0}, {'product': 'Smart Tv Noblex Dj50x6500 Led 4K 50  220V', 'brand': 'Noblex', 'seller': 'Torca', 'financial_mode': ' Hasta 18 cuotas fijas de', 'financing_amount': 9879.93, 'price': 106990.0, 'sale_price': 106990.0}, {'product': 'Led Tcl 40  L40s66e-f Smart Android Tv Full Hd 1920X1080 Hdm', 'brand': 'TCL', 'seller': 'Torca', 'financial_mode': ' Hasta 18 cuotas fijas de', 'financing_amount': 6647.88, 'price': 71990.0, 'sale_price': 71990.0}, {'product': \"Lg Smart Tv Ai Fhd 43''\", 'brand': 'LG', 'seller': 'Newsan', 'financial_mode': ' Hasta 18 cuotas fijas de', 'financing_amount': 10619.52, 'price': 114999.0, 'sale_price': 114999.0}, {'product': 'Smart Tv Philco 32 Led Hd Pld32hs22 Wifi Netflix', 'brand': 'Philco', 'seller': 'Ceven', 'financial_mode': ' Hasta 18 cuotas fijas de', 'financing_amount': 4570.13, 'price': 49490.0, 'sale_price': 49490.0}, {'product': \"Lg Nanocell Ai Thinq 4K 65''\", 'brand': 'LG', 'seller': 'Newsan', 'financial_mode': ' Hasta 18 cuotas fijas de', 'financing_amount': 28626.69, 'price': 309999.0, 'sale_price': 309999.0}, {'product': 'Smart Tv 4K Uhd 55 Pulgadas Philips 55Pud7406/77 Hdr Android', 'brand': 'Philips', 'seller': 'Ebox', 'financial_mode': ' Hasta 18 cuotas fijas de', 'financing_amount': 17360.66, 'price': 187999.0, 'sale_price': 187999.0}, {'product': 'Smart Tv Samsung Series 5 Un43t5300agczb Led Full Hd 43  ', 'brand': 'Samsung', 'seller': 'Torca', 'financial_mode': ' Hasta 18 cuotas fijas de', 'financing_amount': 9234.35, 'price': 99999.0, 'sale_price': 99999.0}, {'product': 'Smart Tv Philips 32Phd6917 Hd 32 Pulgadas Android Bt Hdr Voz', 'brand': 'Philips', 'seller': 'Ebox', 'financial_mode': ' Hasta 18 cuotas fijas de', 'financing_amount': 6211.92, 'price': 67269.0, 'sale_price': 67269.0}, {'product': 'Smart Tv Noblex Dq65x9500pi 65  Qled 4K Uhd Android Tv', 'brand': 'Noblex', 'seller': 'Newsan', 'financial_mode': ' Hasta 18 cuotas fijas de', 'financing_amount': 22162.57, 'price': 324999.0, 'sale_price': 239999.0}, {'product': 'Smart Tv 43\" Noblex 91Dk43x7100pi Android Tv ', 'brand': 'Noblex', 'seller': 'Newsan', 'financial_mode': ' Hasta 18 cuotas fijas de', 'financing_amount': 9234.35, 'price': 99999.0, 'sale_price': 99999.0}, {'product': 'Smart Tv Fullhd 42 Pulgadas Quint Qt1 Qt1-42frame Dolby Wifi', 'brand': 'Quint', 'seller': 'Dinatech', 'financial_mode': ' Hasta 18 cuotas fijas de', 'financing_amount': 5817.61, 'price': 62999.0, 'sale_price': 62999.0}, {'product': 'Tv 50 Smart Samsung Un50au7000gczb Uhd 4K Serie Au7000 Hdmi - Un50au7000gczb', 'brand': 'Samsung', 'seller': 'Ceven', 'financial_mode': ' Hasta 18 cuotas fijas de', 'financing_amount': 15698.46, 'price': 169999.0, 'sale_price': 169999.0}, {'product': 'Smart Tv Samsung Series 4 Un32t4300agczb Led Hd 32 Hdr', 'brand': 'Samsung', 'seller': 'Ceven', 'financial_mode': ' Hasta 18 cuotas fijas de', 'financing_amount': 6925.74, 'price': 74999.0, 'sale_price': 74999.0}, {'product': 'Smart Led 4K 55\" Samsung Q60a Eq Qn55q60aagczb', 'brand': 'Samsung', 'seller': 'Hendel', 'financial_mode': ' Hasta 18 cuotas fijas de', 'financing_amount': 19475.35, 'price': 263499.0, 'sale_price': 210899.0}, {'product': 'Smart Tv Philips 32 Pulgadas Android Tv Led Hd 32Phd6917/77', 'brand': 'Philips', 'seller': 'Ceven', 'financial_mode': ' Hasta 18 cuotas fijas de', 'financing_amount': 7018.09, 'price': 75999.0, 'sale_price': 75999.0}, {'product': 'Smart Tv 4K Mini Qled 55 Tcl L55c825 120Hz Google Tv Webcam', 'brand': 'TCL', 'seller': 'Agen', 'financial_mode': ' Hasta 18 cuotas fijas de', 'financing_amount': 36937.69, 'price': 399999.0, 'sale_price': 399999.0}, {'product': 'Televisor Smart 50 Rca And50fxuhdf Android Uhd 4K', 'brand': 'RCA', 'seller': 'Outletech', 'financial_mode': ' Hasta 18 cuotas fijas de', 'financing_amount': 13639.18, 'price': 196806.0, 'sale_price': 147699.0}, {'product': 'Smart Tv Philco 32 Led Hd Pld32hs22 Wifi Netflix', 'brand': 'Philco', 'seller': 'Ceven', 'financial_mode': ' Hasta 18 cuotas fijas de', 'financing_amount': 4570.13, 'price': 49490.0, 'sale_price': 49490.0}, {'product': 'Smart Tv Hisense H5018uh6 Led 4K 50\" 100V/240v', 'brand': 'Hisense', 'seller': 'Belkiare', 'financial_mode': ' Hasta 18 cuotas fijas de', 'financing_amount': 13511.1, 'price': 162568.0, 'sale_price': 146312.0}, {'product': 'Smart Tv Led Philips 75 4K Uhd 75Pud8507/77 Ambilight Wifi', 'brand': 'Philips', 'seller': 'Ebox', 'financial_mode': ' Hasta 18 cuotas fijas de', 'financing_amount': 31674.05, 'price': 342999.0, 'sale_price': 342999.0}, {'product': 'Smart Tv 50 Pulgadas 4K Ultra Hd 50U6295/77g - Aoc', 'brand': 'AOC', 'seller': 'Radio Sapienza', 'financial_mode': ' Hasta 18 cuotas fijas de', 'financing_amount': 9972.28, 'price': 124708.0, 'sale_price': 107990.0}, {'product': 'Smart Tv Hd 32 Pulgadas Tcl L32s65a Hdr Bluetooth Android Tv', 'brand': 'TCL', 'seller': 'Agen', 'financial_mode': ' Hasta 18 cuotas fijas de', 'financing_amount': 5263.54, 'price': 56999.0, 'sale_price': 56999.0}, {'product': 'Smart Tv Rca 50 Pulgadas And50fxuhd 4K Android Tv Hdr Hdmi', 'brand': 'RCA', 'seller': 'Ceven', 'financial_mode': ' Hasta 18 cuotas fijas de', 'financing_amount': 10896.55, 'price': 117999.0, 'sale_price': 117999.0}, {'product': 'Smart Tv Noblex Dq75x9500pi 75 Qled 4K Uhd Android Tv', 'brand': 'Noblex', 'seller': 'Newsan', 'financial_mode': ' Hasta 18 cuotas fijas de', 'financing_amount': 32320.46, 'price': 424999.0, 'sale_price': 349999.0}, {'product': 'Smart Tv 43\" Noblex 91Dk43x7100pi Android Tv ', 'brand': 'Noblex', 'seller': 'Newsan', 'financial_mode': ' Hasta 18 cuotas fijas de', 'financing_amount': 9234.35, 'price': 99999.0, 'sale_price': 99999.0}, {'product': 'Tv Led Tcl 55\" 4K L50p725 Android Hdr', 'brand': 'TCL', 'seller': 'Pronto Tec', 'financial_mode': ' Hasta 18 cuotas fijas de', 'financing_amount': 13851.57, 'price': 199999.0, 'sale_price': 149999.0}, {'product': 'Televisor Smart 40 Tcl Android Tv-rv L40s66e', 'brand': 'TCL', 'seller': '*Outletech*', 'financial_mode': ' Hasta 18 cuotas fijas de', 'financing_amount': 8587.94, 'price': 123968.0, 'sale_price': 92999.0}, {'product': 'Smart Tv 43\" Noblex 91Dk43x7100pi Android Tv ', 'brand': 'Noblex', 'seller': 'Newsan', 'financial_mode': ' Hasta 18 cuotas fijas de', 'financing_amount': 9234.35, 'price': 99999.0, 'sale_price': 99999.0}, {'product': 'Barra Sonido Jbl Sb120 Dolby Digital Bluetooth 110W Original', 'brand': 'JBL', 'seller': 'Punto Digital', 'financial_mode': ' Hasta 18 cuotas fijas de', 'financing_amount': 4617.13, 'price': 49999.0, 'sale_price': 49999.0}, {'product': 'Televisor Tcl Led 50  Uhd Google Tv-rv', 'brand': 'TCL', 'seller': 'Baires IT', 'financial_mode': ' Hasta 18 cuotas fijas de', 'financing_amount': 9040.43, 'price': 97899.0, 'sale_price': 97899.0}, {'product': 'Smart Tv Samsung 55\" Eq Led Au7000 Uhd', 'brand': 'Samsung', 'seller': 'Hendel', 'financial_mode': ' Hasta 18 cuotas fijas de', 'financing_amount': 19207.55, 'price': 207999.0, 'sale_price': 207999.0}, {'product': 'Televisor Samsung Smart Tv 55  Qled 4K Qn55q80aagczb', 'brand': 'Samsung', 'seller': 'Baires IT', 'financial_mode': ' Hasta 18 cuotas fijas de', 'financing_amount': 34906.11, 'price': 377999.0, 'sale_price': 377999.0}, {'product': 'Televisor Noblex 43  Smart Tv Dr43x7100 Android Full Hd ', 'brand': 'Noblex', 'seller': 'Ceven', 'financial_mode': ' Hasta 18 cuotas fijas de', 'financing_amount': 9419.04, 'price': 101999.0, 'sale_price': 101999.0}, {'product': 'Smart Tv Philips 43Pfd6917/77 Led Full Hd 43  110V/240v', 'brand': 'Philips', 'seller': 'Baires IT', 'financial_mode': ' Hasta 18 cuotas fijas de', 'financing_amount': 15962.57, 'price': 172859.0, 'sale_price': 172859.0}, {'product': \"Lg Smart Tv Ai Fhd 43''\", 'brand': 'LG', 'seller': 'Newsan', 'financial_mode': ' Hasta 18 cuotas fijas de', 'financing_amount': 10619.52, 'price': 114999.0, 'sale_price': 114999.0}, {'product': 'Smart Tv Philips 4K 50\" 50Pud7406/77', 'brand': 'Philips', 'seller': 'Hendel', 'financial_mode': ' Hasta 18 cuotas fijas de', 'financing_amount': 14267.12, 'price': 154499.0, 'sale_price': 154499.0}, {'product': 'Tv 43  Smart Samsung Un43au7000gczb Uhd 4K Hdr Hdmi Netflix', 'brand': 'Samsung', 'seller': 'Ceven', 'financial_mode': ' Hasta 18 cuotas fijas de', 'financing_amount': 10619.52, 'price': 114999.0, 'sale_price': 114999.0}, {'product': 'Smart Tv Lg 50  Led Real 4K Uhd Hdr 10 Pro Thinq 50Up7750', 'brand': 'LG', 'seller': 'Ceven', 'financial_mode': ' Hasta 18 cuotas fijas de', 'financing_amount': 16621.91, 'price': 179999.0, 'sale_price': 179999.0}, {'product': \"Smart Tv Noblex Dk32x5050pi Led Hd 32''\", 'brand': 'Noblex', 'seller': 'Newsan', 'financial_mode': ' Hasta 18 cuotas fijas de', 'financing_amount': 4617.13, 'price': 74999.0, 'sale_price': 49999.0}, {'product': 'Smart Tv Aoc 32\" Hd S5295/77g', 'brand': 'AOC', 'seller': 'Hendel', 'financial_mode': ' Hasta 18 cuotas fijas de', 'financing_amount': 4312.39, 'price': 62499.0, 'sale_price': 46699.0}, {'product': 'Smart Tv 50\" 4K Noblex Android Tv Dm50x7550 Ultra Hd', 'brand': 'Noblex', 'seller': 'OscarBarbieri', 'financial_mode': ' Hasta 18 cuotas fijas de', 'financing_amount': 10514.34, 'price': 113860.0, 'sale_price': 113860.0}, {'product': 'Smart Tv Noblex Dj50x6500 Led 4K 50  220V', 'brand': 'Noblex', 'seller': 'Torca', 'financial_mode': ' Hasta 18 cuotas fijas de', 'financing_amount': 9879.93, 'price': 106990.0, 'sale_price': 106990.0}, {'product': 'Smart Tv Philips 43Pfd6917/77 Led Full Hd 43  110V/240v', 'brand': 'Philips', 'seller': 'Baires IT', 'financial_mode': ' Hasta 18 cuotas fijas de', 'financing_amount': 15962.57, 'price': 172859.0, 'sale_price': 172859.0}, {'product': 'Led Tcl 40  L40s66e-f Smart Android Tv Full Hd 1920X1080 Hdm', 'brand': 'TCL', 'seller': 'Torca', 'financial_mode': ' Hasta 18 cuotas fijas de', 'financing_amount': 6647.88, 'price': 71990.0, 'sale_price': 71990.0}, {'product': 'Barra Sonido Jbl Sb120 Dolby Digital Bluetooth 110W Original', 'brand': 'JBL', 'seller': 'Punto Digital', 'financial_mode': ' Hasta 18 cuotas fijas de', 'financing_amount': 4617.13, 'price': 49999.0, 'sale_price': 49999.0}, {'product': 'Smart Tv Led 4K Hyundai 58\" Hyled-uhdsa', 'brand': 'Hyundai', 'seller': 'Hendel', 'financial_mode': ' Hasta 18 cuotas fijas de', 'financing_amount': 14405.64, 'price': 193499.0, 'sale_price': 155999.0}, {'product': 'Smart Tv 43\" Noblex 91Dk43x7100pi Android Tv ', 'brand': 'Noblex', 'seller': 'Newsan', 'financial_mode': ' Hasta 18 cuotas fijas de', 'financing_amount': 9234.35, 'price': 99999.0, 'sale_price': 99999.0}, {'product': 'Tv Smart 32\" Hisense Hd 32A42h', 'brand': 'Hisense', 'seller': 'Dorazi', 'financial_mode': ' Hasta 18 cuotas fijas de', 'financing_amount': 5900.72, 'price': 63899.0, 'sale_price': 63899.0}, {'product': 'Smart Tv Rca And40y Led Full Hd 40  100V/240v', 'brand': 'RCA', 'seller': 'Torca', 'financial_mode': ' Hasta 18 cuotas fijas de', 'financing_amount': 6463.19, 'price': 69990.0, 'sale_price': 69990.0}, {'product': 'Led Rca 40  S40and-f Smart Full Hd Hdmi/usb/sint Digit/andro', 'brand': 'RCA', 'seller': 'Torca', 'financial_mode': ' Hasta 18 cuotas fijas de', 'financing_amount': 6463.19, 'price': 69990.0, 'sale_price': 69990.0}, {'product': 'Smart Tv 60\" 4K Lg 60Up7750 Negro', 'brand': 'LG', 'seller': 'Hendel', 'financial_mode': ' Hasta 18 cuotas fijas de', 'financing_amount': 18884.35, 'price': 261499.0, 'sale_price': 204499.0}, {'product': 'Smart Tv Philips 43Pfd6917/77 Led Full Hd 43  110V/240v', 'brand': 'Philips', 'seller': 'Baires IT', 'financial_mode': ' Hasta 18 cuotas fijas de', 'financing_amount': 15962.57, 'price': 172859.0, 'sale_price': 172859.0}, {'product': 'Televisor Smarttv Hyundai 32\" Hd', 'brand': 'Hyundai', 'seller': 'Etercor', 'financial_mode': ' Hasta 18 cuotas fijas de', 'financing_amount': 5633.01, 'price': 76249.0, 'sale_price': 61000.0}, {'product': 'Smart Tv Samsung 75   Cristal Uhd 4K Serie 8 Un75au8000gczb', 'brand': 'Samsung', 'seller': 'Ceven', 'financial_mode': ' Hasta 18 cuotas fijas de', 'financing_amount': 36937.69, 'price': 399999.0, 'sale_price': 399999.0}, {'product': 'Tv Smart 43\" Hisense 43A42h Full Hd', 'brand': 'Hisense', 'seller': 'Dorazi', 'financial_mode': ' Hasta 18 cuotas fijas de', 'financing_amount': 8551.0, 'price': 92599.0, 'sale_price': 92599.0}, {'product': 'Smart Tv 43\" Noblex 91Dk43x7100pi Android Tv ', 'brand': 'Noblex', 'seller': 'Newsan', 'financial_mode': ' Hasta 18 cuotas fijas de', 'financing_amount': 9234.35, 'price': 99999.0, 'sale_price': 99999.0}, {'product': 'Smart Tv Lg 32\" 32Lm620 Hd Lg Led', 'brand': 'LG', 'seller': 'Hendel', 'financial_mode': ' Hasta 18 cuotas fijas de', 'financing_amount': 6150.05, 'price': 85499.0, 'sale_price': 66599.0}, {'product': 'Smart Tv Rca 50 Pulgadas And50fxuhd 4K Android Tv Hdr Hdmi', 'brand': 'RCA', 'seller': 'Ceven', 'financial_mode': ' Hasta 18 cuotas fijas de', 'financing_amount': 10896.55, 'price': 117999.0, 'sale_price': 117999.0}, {'product': 'Smart Tv Philips 43Pfd6917/77 Led Full Hd 43  110V/240v', 'brand': 'Philips', 'seller': 'Baires IT', 'financial_mode': ' Hasta 18 cuotas fijas de', 'financing_amount': 15962.57, 'price': 172859.0, 'sale_price': 172859.0}, {'product': 'Televisor Kanji Kj-24tm005 Led Full Hd 24 Pulgadas 220V', 'brand': 'Kanji', 'seller': 'Dacar Hogar', 'financial_mode': ' Hasta 18 cuotas fijas de', 'financing_amount': 3453.59, 'price': 46584.0, 'sale_price': 37399.0}, {'product': 'Smart Tv 43\" Noblex 91Dk43x7100pi Android Tv - Noblex', 'brand': 'Noblex', 'seller': 'Radio Sapienza', 'financial_mode': ' Hasta 18 cuotas fijas de', 'financing_amount': 8772.63, 'price': 99999.0, 'sale_price': 94999.0}, {'product': 'Smart Tv Samsung Qled 55  4K Serie 6 Qn55q60aagczb', 'brand': 'Samsung', 'seller': 'Ceven', 'financial_mode': ' Hasta 18 cuotas fijas de', 'financing_amount': 23640.09, 'price': 255999.0, 'sale_price': 255999.0}, {'product': 'Led Smart Tv Philips 43\" (43Pfd6825/77)', 'brand': 'Philips', 'seller': '24 Store', 'financial_mode': ' Hasta 18 cuotas fijas de', 'financing_amount': 8058.16, 'price': 96958.0, 'sale_price': 87262.0}, {'product': 'Smart Tv Philips 43Pfd6917/77 Led Full Hd 43  110V/240v', 'brand': 'Philips', 'seller': 'Baires IT', 'financial_mode': ' Hasta 18 cuotas fijas de', 'financing_amount': 15962.57, 'price': 172859.0, 'sale_price': 172859.0}, {'product': 'Smart Tv 43\" Lg Full Hd 43Lm6350psb', 'brand': 'LG', 'seller': 'OscarBarbieri', 'financial_mode': ' Hasta 18 cuotas fijas de', 'financing_amount': 9474.45, 'price': 102599.0, 'sale_price': 102599.0}, {'product': 'Smart Tv 4K Mini Qled 55 Tcl L55c825 120Hz Google Tv Webcam', 'brand': 'TCL', 'seller': 'Agen', 'financial_mode': ' Hasta 18 cuotas fijas de', 'financing_amount': 36937.69, 'price': 399999.0, 'sale_price': 399999.0}, {'product': 'Smart Tv 32\" Kodak 32Mt005 Hd', 'brand': 'Kodak', 'seller': 'OscarBarbieri', 'financial_mode': ' Hasta 18 cuotas fijas de', 'financing_amount': 4795.35, 'price': 51929.0, 'sale_price': 51929.0}, {'product': 'Smart Tv Lg 43  Led Real 4K Uhd Hdr 10 Pro Thinq 43Up7750', 'brand': 'LG', 'seller': 'Ceven', 'financial_mode': ' Hasta 18 cuotas fijas de', 'financing_amount': 12928.04, 'price': 139998.0, 'sale_price': 139998.0}, {'product': \"Smart Tv Lg 43'' Uhd 4K 43Up7750\", 'brand': 'LG', 'seller': 'Diggit', 'financial_mode': ' Hasta 18 cuotas fijas de', 'financing_amount': 12798.85, 'price': 138599.0, 'sale_price': 138599.0}, {'product': 'Smart Tv 50\" 4K Lg 50Up7750 Negro', 'brand': 'LG', 'seller': 'Hendel', 'financial_mode': ' Hasta 18 cuotas fijas de', 'financing_amount': 15975.5, 'price': 172999.0, 'sale_price': 172999.0}, {'product': 'Smart Tv Fullhd 42 Pulgadas Quint Qt1 Qt1-42frame Dolby Wifi', 'brand': 'Quint', 'seller': 'Dinatech', 'financial_mode': ' Hasta 18 cuotas fijas de', 'financing_amount': 5817.61, 'price': 62999.0, 'sale_price': 62999.0}, {'product': 'Led Tcl 50  L50p725 Smart 4K Google Tv Rv Hdmi/usb/sint Dig/', 'brand': 'TCL', 'seller': 'Torca', 'financial_mode': ' Hasta 18 cuotas fijas de', 'financing_amount': 10600.22, 'price': 114790.0, 'sale_price': 114790.0}, {'product': 'Televisor Tcl Led 50  Uhd Google Tv-rv', 'brand': 'TCL', 'seller': 'Baires IT', 'financial_mode': ' Hasta 18 cuotas fijas de', 'financing_amount': 9040.43, 'price': 97899.0, 'sale_price': 97899.0}, {'product': 'Smart Tv Sansei Tds2232hipi Led Hd 32 ', 'brand': 'Sansei', 'seller': 'Newsan', 'financial_mode': ' Hasta 18 cuotas fijas de', 'financing_amount': 3693.69, 'price': 68999.0, 'sale_price': 39999.0}, {'product': 'Smart Tv 43 Pulgadas 4K Ultra Hd 43Au7000 - Samsung', 'brand': 'Samsung', 'seller': 'Megatone', 'financial_mode': ' Hasta 18 cuotas fijas de', 'financing_amount': 11413.68, 'price': 123599.0, 'sale_price': 123599.0}, {'product': 'Televisor Samsung Smart Tv 55  Qled 4K Qn55q80aagczb', 'brand': 'Samsung', 'seller': 'Baires IT', 'financial_mode': ' Hasta 18 cuotas fijas de', 'financing_amount': 34906.11, 'price': 377999.0, 'sale_price': 377999.0}, {'product': 'Smart Tv 32\" Hd Samsung Un32t4300agczb Negro', 'brand': 'Samsung', 'seller': 'Hendel', 'financial_mode': ' Hasta 18 cuotas fijas de', 'financing_amount': 5725.26, 'price': 81999.0, 'sale_price': 61999.0}, {'product': 'Smart Tv 4K 50 Pulgadas Hitachi Le504ksmart21 Hdr Bt Android', 'brand': 'Hitachi', 'seller': 'Agen', 'financial_mode': ' Hasta 18 cuotas fijas de', 'financing_amount': 10711.86, 'price': 115999.0, 'sale_price': 115999.0}, {'product': 'Smart Tv 55 Pulgadas 4K Ultra Hd L55p725 - Tcl', 'brand': 'TCL', 'seller': 'Megatone', 'financial_mode': ' Hasta 18 cuotas fijas de', 'financing_amount': 13149.76, 'price': 150519.0, 'sale_price': 142399.0}, {'product': \"Lg Uhd Ai Thinq 75'' Up77 4K Smart Tv, Α5 Ai Processor, Magic Remote\", 'brand': 'LG', 'seller': 'Newsan', 'financial_mode': ' Hasta 18 cuotas fijas de', 'financing_amount': 37861.13, 'price': 409999.0, 'sale_price': 409999.0}, {'product': 'Smart Tv 43\" Uhd 4K Samsung 43Au7000', 'brand': 'Samsung', 'seller': 'Hendel', 'financial_mode': ' Hasta 18 cuotas fijas de', 'financing_amount': 9945.4, 'price': 142999.0, 'sale_price': 107699.0}, {'product': 'Smart Tv Philips 32” Led Hd 32Phd6825/77', 'brand': 'Philips', 'seller': 'Radio Sapienza', 'financial_mode': ' Hasta 18 cuotas fijas de', 'financing_amount': 4817.61, 'price': 57177.0, 'sale_price': 52170.0}, {'product': 'Smart Tv Hyundai 43\" Fhd Hyled-43fhd7a', 'brand': 'Hyundai', 'seller': 'Etercor', 'financial_mode': ' Hasta 18 cuotas fijas de', 'financing_amount': 10734.95, 'price': 116249.0, 'sale_price': 116249.0}, {'product': 'Led Rca 40  S40and-f Smart Full Hd Hdmi/usb/sint Digit/andro', 'brand': 'RCA', 'seller': 'Torca', 'financial_mode': ' Hasta 18 cuotas fijas de', 'financing_amount': 6463.19, 'price': 69990.0, 'sale_price': 69990.0}, {'product': 'Televisor Noblex Smart Tv Dk32x5050pi Led Hd 32 Pulgadas', 'brand': 'Noblex', 'seller': 'Ceven', 'financial_mode': ' Hasta 18 cuotas fijas de', 'financing_amount': 5540.57, 'price': 59999.0, 'sale_price': 59999.0}, {'product': 'Smart Tv Hisense H5018uh6 Led 4K 50\" 100V/240v', 'brand': 'Hisense', 'seller': 'Belkiare', 'financial_mode': ' Hasta 18 cuotas fijas de', 'financing_amount': 13511.1, 'price': 162568.0, 'sale_price': 146312.0}, {'product': 'Smart Tv 4K 65 Pulgadas Rca And65p7uhd Bluetooth Hdr Android', 'brand': 'RCA', 'seller': 'Agen', 'financial_mode': ' Hasta 18 cuotas fijas de', 'financing_amount': 18468.8, 'price': 199999.0, 'sale_price': 199999.0}, {'product': 'Smart Tv Hitachi 50\" Uhd 4K Le504ksmart21', 'brand': 'Hitachi', 'seller': 'Diggit', 'financial_mode': ' Hasta 18 cuotas fijas de', 'financing_amount': 11478.32, 'price': 124299.0, 'sale_price': 124299.0}, {'product': 'Smart Tv Sansei 91Tds2250ui\\u202cpi Led 50\" 4K Uhd Tv', 'brand': 'Sansei', 'seller': 'Newsan', 'financial_mode': ' Hasta 18 cuotas fijas de', 'financing_amount': 7849.19, 'price': 129999.0, 'sale_price': 84999.0}, {'product': 'Tv Led 32 Philips 32Phd682577', 'brand': 'Philips', 'seller': 'Grupo Nucleo', 'financial_mode': ' Hasta 18 cuotas fijas de', 'financing_amount': 4801.82, 'price': 59999.0, 'sale_price': 51999.0}, {'product': 'Smart Tv Samsung Series 4 Un32t4300agczb Led Hd 32 Hdr', 'brand': 'Samsung', 'seller': 'Ceven', 'financial_mode': ' Hasta 18 cuotas fijas de', 'financing_amount': 6925.74, 'price': 74999.0, 'sale_price': 74999.0}, {'product': 'Smart Tv Sansei 91Tds2255uipi Led 4K Uhd 55\"', 'brand': 'Sansei', 'seller': 'Newsan', 'financial_mode': ' Hasta 18 cuotas fijas de', 'financing_amount': 8772.63, 'price': 139999.0, 'sale_price': 94999.0}, {'product': \"Lg Nanocell Ai Thinq 4K 65''\", 'brand': 'LG', 'seller': 'Newsan', 'financial_mode': ' Hasta 18 cuotas fijas de', 'financing_amount': 28626.69, 'price': 309999.0, 'sale_price': 309999.0}, {'product': 'Smart Tv Philips 32Phd6917 Hd 32 Pulgadas Android Bt Hdr Voz', 'brand': 'Philips', 'seller': 'Ebox', 'financial_mode': ' Hasta 18 cuotas fijas de', 'financing_amount': 6211.92, 'price': 67269.0, 'sale_price': 67269.0}, {'product': 'Smart Tv 43\" Noblex 91Dk43x7100pi Android Tv ', 'brand': 'Noblex', 'seller': 'Newsan', 'financial_mode': ' Hasta 18 cuotas fijas de', 'financing_amount': 9234.35, 'price': 99999.0, 'sale_price': 99999.0}, {'product': 'Televisor Noblex 43  Smart Tv Dr43x7100 Android Full Hd ', 'brand': 'Noblex', 'seller': 'Ceven', 'financial_mode': ' Hasta 18 cuotas fijas de', 'financing_amount': 9419.04, 'price': 101999.0, 'sale_price': 101999.0}, {'product': 'Smart Tv Xiaomi Mi Tv P1 43\" Lm', 'brand': 'Xiaomi', 'seller': 'Etercor', 'financial_mode': ' Hasta 18 cuotas fijas de', 'financing_amount': 13851.67, 'price': 187499.0, 'sale_price': 150000.0}, {'product': 'Smart Tv 43\" Noblex 91Dk43x7100pi Android Tv ', 'brand': 'Noblex', 'seller': 'Newsan', 'financial_mode': ' Hasta 18 cuotas fijas de', 'financing_amount': 9234.35, 'price': 99999.0, 'sale_price': 99999.0}, {'product': 'Smart Tv Samsung 75 Pulgadas Neo Qled 4K Qn75qn85bagczb', 'brand': 'Samsung', 'seller': 'Ceven', 'financial_mode': ' Hasta 18 cuotas fijas de', 'financing_amount': 66118.53, 'price': 715999.0, 'sale_price': 715999.0}, {'product': 'Smart Tv Samsung Series 4 Un32t4300agczb Led Hd 32 Hdr', 'brand': 'Samsung', 'seller': 'Ceven', 'financial_mode': ' Hasta 18 cuotas fijas de', 'financing_amount': 6925.74, 'price': 74999.0, 'sale_price': 74999.0}, {'product': 'Smart Tv Samsung Series 4 Un32t4300agczb Led Hd 32 Hdr', 'brand': 'Samsung', 'seller': 'Ceven', 'financial_mode': ' Hasta 18 cuotas fijas de', 'financing_amount': 6925.74, 'price': 74999.0, 'sale_price': 74999.0}]\n",
      "                                               product    brand    seller  \\\n",
      "1             Smart Tv Noblex Dk43x5100 Led Full Hd 43   Noblex     Torca   \n",
      "2    Led Tcl 50  L50p725 Smart 4K Google Tv Rv Hdmi...      TCL     Torca   \n",
      "3    Smart Tv 4K 65 Pulgadas Rca And65p7uhd Bluetoo...      RCA      Agen   \n",
      "4    Smart Tv 65 Pulgadas 4K Ultra Hd 65Au7000 - Sa...  Samsung  Megatone   \n",
      "5                  Smart Tv 50\" Uhd4k Samsung 50Au7000  Samsung    Hendel   \n",
      "..                                                 ...      ...       ...   \n",
      "142                    Smart Tv Xiaomi Mi Tv P1 43\" Lm   Xiaomi   Etercor   \n",
      "143      Smart Tv 43\" Noblex 91Dk43x7100pi Android Tv    Noblex    Newsan   \n",
      "144  Smart Tv Samsung 75 Pulgadas Neo Qled 4K Qn75q...  Samsung     Ceven   \n",
      "145  Smart Tv Samsung Series 4 Un32t4300agczb Led H...  Samsung     Ceven   \n",
      "146  Smart Tv Samsung Series 4 Un32t4300agczb Led H...  Samsung     Ceven   \n",
      "\n",
      "     financing_amount  sale_price  \n",
      "1             6878.74     74490.0  \n",
      "2            10600.22    114790.0  \n",
      "3            18468.80    199999.0  \n",
      "4            24748.22    267999.0  \n",
      "5            12050.86    130499.0  \n",
      "..                ...         ...  \n",
      "142          13851.67    150000.0  \n",
      "143           9234.35     99999.0  \n",
      "144          66118.53    715999.0  \n",
      "145           6925.74     74999.0  \n",
      "146           6925.74     74999.0  \n",
      "\n",
      "[146 rows x 5 columns]\n"
     ]
    }
   ],
   "source": [
    "\n",
    "datos = []\n",
    "product1 = []\n",
    "brand1 = []\n",
    "seller1 = []\n",
    "#financial_mode1 = [] todas dicen 18 cuotas así que no es relevante\n",
    "financing_amount1 = []\n",
    "#price1 = [] al final el precio termina siendo el de sale price\n",
    "sale_price1 = []\n",
    "\n",
    "for file in glob.glob(\"C:/Users/angel/PROYECTO INTEGRADOR D1006/D1006/HTML/*.html\"):\n",
    "    with open(file, 'r', encoding=\"utf8\") as html_file:\n",
    "        content = html_file.read()\n",
    "        soup = BeautifulSoup(content, 'lxml')\n",
    "\n",
    "    bloques = soup.find_all('article', attrs={\"id\": \"modern-variant-card\"})\n",
    "\n",
    "    for bloque in bloques:\n",
    "        product = \"\"\n",
    "        seller = \"\"\n",
    "        brand = \"\"\n",
    "        financial_mode = \"\"\n",
    "        financing_amount = 0\n",
    "        price = 0\n",
    "        sale_price = 0\n",
    "\n",
    "        valor = bloque.find('h6',  class_=\"d-inline-block\")\n",
    "        if valor:\n",
    "            product = valor.text\n",
    "\n",
    "        valor = bloque.find('div',  class_=\"shop-panel d-block mt-auto\")\n",
    "        if valor:\n",
    "            seller = valor.text.replace(\"-\", \"\").strip()\n",
    "\n",
    "        valor = bloque.find('small',  class_=\"ng-star-inserted\")\n",
    "        if valor:\n",
    "            f = valor.text.split(\"$\")\n",
    "            financial_mode = f[0]\n",
    "            financing_amount = float(f[1].replace(\n",
    "                \"$\", \"\").replace(\".\", \"\").replace(\",\", \".\"))\n",
    "\n",
    "        valor = bloque.find(\n",
    "            'div',  class_=\"manufacturer-panel d-block mt-auto\")\n",
    "        if valor:\n",
    "            brand = valor.text.strip()\n",
    "\n",
    "        # Trata de recuperar los precios unificados, si no encuenta valor, es porque vienen por separado, precio de oferta y precio regular\n",
    "        valor = bloque.find(\n",
    "            'span',  class_=\"price sale-price ng-star-inserted\")\n",
    "        if valor:\n",
    "            price = float(valor.text.replace(\n",
    "                \"$\", \"\").replace(\".\", \"\").replace(\",\", \".\"))\n",
    "            sale_price = float(valor.text.replace(\n",
    "                \"$\", \"\").replace(\".\", \"\").replace(\",\", \".\"))\n",
    "        else:\n",
    "            valor = bloque.find('span',  class_=\"price ng-star-inserted\")\n",
    "            if valor:\n",
    "                price = float(valor.text.replace(\n",
    "                    \"$\", \"\").replace(\".\", \"\").replace(\",\", \".\"))\n",
    "\n",
    "            valor = bloque.find('span',  class_=\"sale-price ng-star-inserted\")\n",
    "            if valor:\n",
    "                sale_price = float(valor.text.replace(\n",
    "                    \"$\", \"\").replace(\".\", \"\").replace(\",\", \".\"))\n",
    "\n",
    "        datos.append({\"product\": product, \"brand\": brand, \"seller\": seller, \"financial_mode\": financial_mode,\"financing_amount\": financing_amount, \"price\": price, \"sale_price\": sale_price})\n",
    "        #datos.append({product, brand, seller, financial_mode, financing_amount, price, sale_price})\n",
    "        product1.append(product)\n",
    "        brand1.append(brand)\n",
    "        seller1.append(seller)\n",
    "        #financial_mode1.append(financial_mode)\n",
    "        financing_amount1.append(financing_amount)\n",
    "        #price1.append(price)\n",
    "        sale_price1.append(sale_price)\n",
    "\n",
    "print(datos)\n",
    "\n",
    "import pandas as pd\n",
    "\n",
    "dict = {'product': product1, 'brand': brand1, 'seller': seller1, 'financing_amount': financing_amount1,'sale_price': sale_price1}\n",
    "df = pd.DataFrame((dict), index=list(range(1,147)))\n",
    "df.to_csv('database.csv')\n",
    "\n",
    "print(df)\n"
   ]
  }
 ],
 "metadata": {
  "kernelspec": {
   "display_name": "Python 3.10.4 64-bit",
   "language": "python",
   "name": "python3"
  },
  "language_info": {
   "codemirror_mode": {
    "name": "ipython",
    "version": 3
   },
   "file_extension": ".py",
   "mimetype": "text/x-python",
   "name": "python",
   "nbconvert_exporter": "python",
   "pygments_lexer": "ipython3",
   "version": "3.10.4"
  },
  "vscode": {
   "interpreter": {
    "hash": "91555e203e11ede8496fb03363e909d37d72bb051c20872b508296bfc889c327"
   }
  }
 },
 "nbformat": 4,
 "nbformat_minor": 2
}
