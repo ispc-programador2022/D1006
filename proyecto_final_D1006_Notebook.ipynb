{
 "cells": [
  {
   "cell_type": "code",
   "execution_count": null,
   "metadata": {},
   "outputs": [],
   "source": [
    "pip install beautifulsoup4\n"
   ]
  },
  {
   "cell_type": "code",
   "execution_count": null,
   "metadata": {},
   "outputs": [],
   "source": [
    "from bs4 import BeautifulSoup"
   ]
  },
  {
   "cell_type": "code",
   "execution_count": null,
   "metadata": {},
   "outputs": [],
   "source": [
    "import glob"
   ]
  },
  {
   "cell_type": "code",
   "execution_count": null,
   "metadata": {},
   "outputs": [],
   "source": [
    "datos = []"
   ]
  },
  {
   "cell_type": "code",
   "execution_count": null,
   "metadata": {},
   "outputs": [],
   "source": [
    "# busca todos los archivos .html guardados en el directorio donde está esta script\n",
    "for file in glob.glob(\"*.html\"):\n",
    "    with open(file, 'r', encoding=\"utf8\") as html_file:\n",
    "        content = html_file.read()\n",
    "        soup = BeautifulSoup(content, 'lxml')\n",
    "\n",
    "    bloques = soup.find_all('article', attrs={\"id\": \"modern-variant-card\"})\n",
    "\n",
    "    for bloque in bloques:\n",
    "        product = \"\"\n",
    "        seller = \"\"\n",
    "        brand = \"\"\n",
    "        financial_mode = \"\"\n",
    "        financing_amount = 0\n",
    "        price = 0\n",
    "        sale_price = 0\n",
    "\n",
    "        valor = bloque.find('h6',  class_=\"d-inline-block\")\n",
    "        if valor:\n",
    "            product = valor.text\n",
    "\n",
    "        valor = bloque.find('div',  class_=\"shop-panel d-block mt-auto\")\n",
    "        if valor:\n",
    "            seller = valor.text.replace(\"-\", \"\").strip()\n",
    "\n",
    "        valor = bloque.find('small',  class_=\"ng-star-inserted\")\n",
    "        if valor:\n",
    "            f = valor.text.split(\"$\")\n",
    "            financial_mode = f[0]\n",
    "            financing_amount = float(f[1].replace(\n",
    "                \"$\", \"\").replace(\".\", \"\").replace(\",\", \".\"))\n",
    "\n",
    "        valor = bloque.find(\n",
    "            'div',  class_=\"manufacturer-panel d-block mt-auto\")\n",
    "        if valor:\n",
    "            brand = valor.text.strip()\n",
    "\n",
    "        # Trata de recuperar los precios unificados, si no encuenta valor, es porque vienen por separado, precio de oferta y precio regular\n",
    "        valor = bloque.find(\n",
    "            'span',  class_=\"price sale-price ng-star-inserted\")\n",
    "        if valor:\n",
    "            price = float(valor.text.replace(\n",
    "                \"$\", \"\").replace(\".\", \"\").replace(\",\", \".\"))\n",
    "            sale_price = float(valor.text.replace(\n",
    "                \"$\", \"\").replace(\".\", \"\").replace(\",\", \".\"))\n",
    "        else:\n",
    "            valor = bloque.find('span',  class_=\"price ng-star-inserted\")\n",
    "            if valor:\n",
    "                price = float(valor.text.replace(\n",
    "                    \"$\", \"\").replace(\".\", \"\").replace(\",\", \".\"))\n",
    "\n",
    "            valor = bloque.find('span',  class_=\"sale-price ng-star-inserted\")\n",
    "            if valor:\n",
    "                sale_price = float(valor.text.replace(\n",
    "                    \"$\", \"\").replace(\".\", \"\").replace(\",\", \".\"))\n",
    "\n",
    "        datos.append({\"product\": product, \"brand\": brand, \"seller\": seller, \"financial_mode\": financial_mode,\"financing_amount\": financing_amount, \"price\": price, \"sale_price\": sale_price})\n",
    "\n",
    "\n",
    "print(datos)"
   ]
  },
  {
   "cell_type": "code",
   "execution_count": null,
   "metadata": {},
   "outputs": [],
   "source": [
    "import pandas as pd\n",
    "\n",
    "df = pd.DataFrame.from_dict(datos)\n",
    "df.index = df.index + 1\n",
    "df.to_csv(r'bna.csv', index=True, header=True)"
   ]
  }
 ],
 "metadata": {
  "kernelspec": {
   "display_name": "Python 3.9.7 ('base')",
   "language": "python",
   "name": "python3"
  },
  "language_info": {
   "name": "python",
   "version": "3.9.7"
  },
  "orig_nbformat": 4,
  "vscode": {
   "interpreter": {
    "hash": "ad2bdc8ecc057115af97d19610ffacc2b4e99fae6737bb82f5d7fb13d2f2c186"
   }
  }
 },
 "nbformat": 4,
 "nbformat_minor": 2
}
